{
 "cells": [
  {
   "cell_type": "code",
   "execution_count": 1,
   "metadata": {},
   "outputs": [],
   "source": [
    "import numpy as np\n",
    "import pandas as pd\n",
    "import scipy.linalg as sla"
   ]
  },
  {
   "cell_type": "code",
   "execution_count": 2,
   "metadata": {},
   "outputs": [],
   "source": [
    "# matrix left/right division (following MATLAB function naming)\n",
    "_mldivide = lambda denom, numer: sla.lstsq(np.array(denom), np.array(numer))[0]\n",
    "_mrdivide = lambda numer, denom: (sla.lstsq(np.array(denom).T, np.array(numer).T)[0]).T\n",
    "\n",
    "gama = np.random.random((6, 3))\n",
    "f = np.random.random((3, 30))\n",
    "# cholesky decomposition\n",
    "R1 = sla.cholesky(gama.T @ gama)\n",
    "\n",
    "# singular value decomposition\n",
    "R2, _, _ = sla.svd(R1@f@f.T@R1.T)\n",
    "\n",
    "# matrix right division\n",
    "gama_new = _mrdivide(gama, R1).dot(R2)\n",
    "f_new = _mldivide(R2, R1.dot(f))"
   ]
  },
  {
   "cell_type": "code",
   "execution_count": 3,
   "metadata": {},
   "outputs": [],
   "source": [
    "gama = np.random.random((6, 3))"
   ]
  },
  {
   "cell_type": "code",
   "execution_count": 4,
   "metadata": {},
   "outputs": [],
   "source": [
    "f = np.random.random((3, 30))"
   ]
  },
  {
   "cell_type": "code",
   "execution_count": 5,
   "metadata": {},
   "outputs": [],
   "source": [
    "# cholesky decomposition\n",
    "R1 = sla.cholesky(gama.T @ gama)\n",
    "\n",
    "# singular value decomposition\n",
    "R2, _, _ = sla.svd(R1@f@f.T@R1.T)\n",
    "\n",
    "# matrix right division\n",
    "gama_new = _mrdivide(gama, R1).dot(R2)\n",
    "f_new = _mldivide(R2, R1.dot(f))"
   ]
  },
  {
   "cell_type": "code",
   "execution_count": 9,
   "metadata": {},
   "outputs": [
    {
     "data": {
      "text/plain": [
       "array([[1.55146848, 0.77453112, 1.18100732],\n",
       "       [0.        , 1.20787767, 0.71242556],\n",
       "       [0.        , 0.        , 0.50083141]])"
      ]
     },
     "execution_count": 9,
     "metadata": {},
     "output_type": "execute_result"
    }
   ],
   "source": [
    "R1"
   ]
  },
  {
   "cell_type": "code",
   "execution_count": 7,
   "metadata": {},
   "outputs": [
    {
     "data": {
      "text/plain": [
       "array([[ 1.00000000e+00, -1.96468190e-16, -2.79494988e-16],\n",
       "       [-1.96468190e-16,  1.00000000e+00, -8.32128909e-16],\n",
       "       [-2.79494988e-16, -8.32128909e-16,  1.00000000e+00]])"
      ]
     },
     "execution_count": 7,
     "metadata": {},
     "output_type": "execute_result"
    }
   ],
   "source": [
    "gama_new.T@ gama_new"
   ]
  },
  {
   "cell_type": "code",
   "execution_count": 8,
   "metadata": {},
   "outputs": [
    {
     "data": {
      "text/plain": [
       "array([[ 1.30433490e+02, -8.88182810e-15,  4.68068227e-15],\n",
       "       [-8.88182810e-15,  2.76518008e+00,  1.76516206e-15],\n",
       "       [ 4.68068227e-15,  1.76516206e-15,  4.00041709e-01]])"
      ]
     },
     "execution_count": 8,
     "metadata": {},
     "output_type": "execute_result"
    }
   ],
   "source": [
    "f_new@f_new.T"
   ]
  }
 ],
 "metadata": {
  "kernelspec": {
   "display_name": "gsc-ipca-env",
   "language": "python",
   "name": "python3"
  },
  "language_info": {
   "codemirror_mode": {
    "name": "ipython",
    "version": 3
   },
   "file_extension": ".py",
   "mimetype": "text/x-python",
   "name": "python",
   "nbconvert_exporter": "python",
   "pygments_lexer": "ipython3",
   "version": "3.12.1"
  }
 },
 "nbformat": 4,
 "nbformat_minor": 2
}
